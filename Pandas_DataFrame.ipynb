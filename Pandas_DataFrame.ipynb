{
 "cells": [
  {
   "cell_type": "code",
   "execution_count": 2,
   "id": "24940992-ad7d-46f3-915c-1f2f26f57641",
   "metadata": {},
   "outputs": [],
   "source": [
    "import pandas as pd"
   ]
  },
  {
   "cell_type": "code",
   "execution_count": 3,
   "id": "0735b72c-bf97-4f75-80f2-316e763647d1",
   "metadata": {},
   "outputs": [
    {
     "name": "stdout",
     "output_type": "stream",
     "text": [
      "<class 'dict'>\n",
      "{'state': ['Ker', 'Ker', 'Ker', 'Kar', 'Kar'], 'year': [2000, 2001, 2002, 2001, 2002], 'pop': [1.5, 1.7, 3.6, 2.4, 2.9]}\n"
     ]
    }
   ],
   "source": [
    "data = {'state' : ['Ker','Ker','Ker','Kar','Kar'],\n",
    "       'year' : [2000,2001,2002,2001,2002],\n",
    "       'pop' : [1.5,1.7,3.6,2.4,2.9]\n",
    "       }\n",
    "print(type(data))\n",
    "print(data)"
   ]
  },
  {
   "cell_type": "code",
   "execution_count": 4,
   "id": "1e118962-0008-419f-920b-487f2a800138",
   "metadata": {},
   "outputs": [
    {
     "name": "stdout",
     "output_type": "stream",
     "text": [
      "  state  year  pop\n",
      "0   Ker  2000  1.5\n",
      "1   Ker  2001  1.7\n",
      "2   Ker  2002  3.6\n",
      "3   Kar  2001  2.4\n",
      "4   Kar  2002  2.9\n"
     ]
    }
   ],
   "source": [
    "frame = pd.DataFrame(data)\n",
    "print(frame)"
   ]
  },
  {
   "cell_type": "code",
   "execution_count": 5,
   "id": "f4010e9f-cd9c-4f2d-b1a5-88e5885ecaf0",
   "metadata": {},
   "outputs": [
    {
     "name": "stdout",
     "output_type": "stream",
     "text": [
      "<class 'pandas.core.frame.DataFrame'>\n"
     ]
    }
   ],
   "source": [
    "print(type(frame))"
   ]
  },
  {
   "cell_type": "code",
   "execution_count": null,
   "id": "36b79fc4-b363-4ebc-9139-4608732f7baa",
   "metadata": {},
   "outputs": [],
   "source": []
  },
  {
   "cell_type": "code",
   "execution_count": 6,
   "id": "6d8bcafe-8f38-4abb-ac36-99e2d2c9bbdd",
   "metadata": {},
   "outputs": [
    {
     "name": "stdout",
     "output_type": "stream",
     "text": [
      "  state  year  pop\n",
      "0   Ker  2000  1.5\n",
      "1   Ker  2001  1.7\n",
      "2   Ker  2002  3.6\n",
      "3   Kar  2001  2.4\n",
      "4   Kar  2002  2.9\n"
     ]
    }
   ],
   "source": [
    "print(frame)"
   ]
  },
  {
   "cell_type": "code",
   "execution_count": 8,
   "id": "4e76f1a2-27d7-4828-8bd8-8f6ff3fc0898",
   "metadata": {},
   "outputs": [
    {
     "name": "stdout",
     "output_type": "stream",
     "text": [
      "0    Ker\n",
      "1    Ker\n",
      "2    Ker\n",
      "3    Kar\n",
      "4    Kar\n",
      "Name: state, dtype: object\n"
     ]
    }
   ],
   "source": [
    "#Retrieve one column\n",
    "print(frame['state'])"
   ]
  },
  {
   "cell_type": "code",
   "execution_count": 9,
   "id": "6da79b36-6081-4806-829a-0f7b23e39485",
   "metadata": {},
   "outputs": [
    {
     "name": "stdout",
     "output_type": "stream",
     "text": [
      "0    Ker\n",
      "1    Ker\n",
      "2    Ker\n",
      "3    Kar\n",
      "4    Kar\n",
      "Name: state, dtype: object\n"
     ]
    }
   ],
   "source": [
    "print(frame.state)"
   ]
  },
  {
   "cell_type": "code",
   "execution_count": 10,
   "id": "5bfb50e8-fd8b-4dab-943e-98f795346e61",
   "metadata": {},
   "outputs": [
    {
     "name": "stdout",
     "output_type": "stream",
     "text": [
      "  state  pop\n",
      "0   Ker  1.5\n",
      "1   Ker  1.7\n",
      "2   Ker  3.6\n",
      "3   Kar  2.4\n",
      "4   Kar  2.9\n"
     ]
    }
   ],
   "source": [
    "#Retrieve multiple columns\n",
    "print(frame[['state','pop']])"
   ]
  },
  {
   "cell_type": "code",
   "execution_count": 12,
   "id": "6f35070c-9fdd-4256-88b4-8d4a637e3af9",
   "metadata": {},
   "outputs": [
    {
     "name": "stdout",
     "output_type": "stream",
     "text": [
      "state     Ker\n",
      "year     2001\n",
      "pop       1.7\n",
      "Name: 1, dtype: object\n"
     ]
    }
   ],
   "source": [
    "#Retrieve one row\n",
    "#loc = location\n",
    "print(frame.loc[1])"
   ]
  },
  {
   "cell_type": "code",
   "execution_count": 13,
   "id": "7240dbc5-5990-4f91-b0ca-2dae01573072",
   "metadata": {},
   "outputs": [
    {
     "name": "stdout",
     "output_type": "stream",
     "text": [
      "  state  year  pop\n",
      "1   Ker  2001  1.7\n",
      "3   Kar  2001  2.4\n"
     ]
    }
   ],
   "source": [
    "#Retrieve multiple rows\n",
    "print(frame.loc[[1,3]])"
   ]
  },
  {
   "cell_type": "code",
   "execution_count": null,
   "id": "1e67dcd1-a027-48a8-b170-e9b4e2ae9aec",
   "metadata": {},
   "outputs": [],
   "source": []
  },
  {
   "cell_type": "code",
   "execution_count": 17,
   "id": "0333436e-e38f-4a71-809a-9b435b1e8d53",
   "metadata": {},
   "outputs": [
    {
     "name": "stdout",
     "output_type": "stream",
     "text": [
      "       year state  pop debt\n",
      "one    2000   Ker  1.5  NaN\n",
      "two    2001   Ker  1.7  NaN\n",
      "three  2002   Ker  3.6  NaN\n",
      "four   2001   Kar  2.4  NaN\n",
      "five   2002   Kar  2.9  NaN\n"
     ]
    }
   ],
   "source": [
    "#if you pass a column that isn't contained in data,\n",
    "#it will appear with NaN values in the result:\n",
    "frame2 = pd.DataFrame(data,\n",
    "                     columns = ['year','state','pop','debt'],\n",
    "                     index = ['one','two','three','four','five'])\n",
    "print(frame2)"
   ]
  },
  {
   "cell_type": "code",
   "execution_count": 16,
   "id": "da86389e-49e4-4455-b494-6c30f6a04df2",
   "metadata": {},
   "outputs": [
    {
     "name": "stdout",
     "output_type": "stream",
     "text": [
      "0    Ker\n",
      "1    Ker\n",
      "2    Ker\n",
      "3    Kar\n",
      "4    Kar\n",
      "Name: state, dtype: object\n"
     ]
    }
   ],
   "source": [
    "#Retrieving DataFrame values using dict-like notation\n",
    "print(frame['state'])"
   ]
  },
  {
   "cell_type": "code",
   "execution_count": 18,
   "id": "4f82c134-1f06-437f-8777-67225d383e71",
   "metadata": {},
   "outputs": [
    {
     "name": "stdout",
     "output_type": "stream",
     "text": [
      "0    Ker\n",
      "1    Ker\n",
      "2    Ker\n",
      "3    Kar\n",
      "4    Kar\n",
      "Name: state, dtype: object\n"
     ]
    }
   ],
   "source": [
    "#Retrieving DataFrame values using attribute notation\n",
    "print(frame.state)"
   ]
  },
  {
   "cell_type": "code",
   "execution_count": 20,
   "id": "a6b446cb-545a-4665-9030-60be133f87b1",
   "metadata": {},
   "outputs": [
    {
     "name": "stdout",
     "output_type": "stream",
     "text": [
      "  state  year  pop\n",
      "0   Ker  2000  1.5\n",
      "1   Ker  2001  1.7\n",
      "2   Ker  2002  3.6\n",
      "3   Kar  2001  2.4\n",
      "4   Kar  2002  2.9\n"
     ]
    }
   ],
   "source": [
    "#loc index field-location\n",
    "print(frame)"
   ]
  },
  {
   "cell_type": "code",
   "execution_count": 21,
   "id": "a0f7c2f0-89be-444f-bdf6-01611c43d06d",
   "metadata": {},
   "outputs": [
    {
     "name": "stdout",
     "output_type": "stream",
     "text": [
      "state     Kar\n",
      "year     2001\n",
      "pop       2.4\n",
      "Name: 3, dtype: object\n"
     ]
    }
   ],
   "source": [
    "print(frame.loc[3])"
   ]
  },
  {
   "cell_type": "code",
   "execution_count": null,
   "id": "3a6b756a-a345-4892-b389-4a18cf8094d7",
   "metadata": {},
   "outputs": [],
   "source": []
  },
  {
   "cell_type": "code",
   "execution_count": 27,
   "id": "49dca4d5-c65e-41e8-9daa-a1b8ce03fa7b",
   "metadata": {},
   "outputs": [
    {
     "name": "stdout",
     "output_type": "stream",
     "text": [
      "       Name  Age  RollNo  Martial Status\n",
      "0   Nithesh   20      33             NaN\n",
      "1     Pawan   17      34             NaN\n",
      "2    Ronith   20       1             NaN\n",
      "3  Preetham   18      40             NaN\n"
     ]
    }
   ],
   "source": [
    "import numpy as np\n",
    "info = {\n",
    "    'Name' : ['Nithesh','Pawan','Ronith','Preetham'],\n",
    "    'Age' : [20,17,20,18],\n",
    "    'RollNo' : [33,34,1,40],\n",
    "    'Martial Status' : [np.NaN,np.NaN,np.NaN,np.NaN]\n",
    "}\n",
    "frame3 = pd.DataFrame(info)\n",
    "print(frame3)"
   ]
  },
  {
   "cell_type": "code",
   "execution_count": 31,
   "id": "72b3dd7d-eb02-4003-81e5-cef873849beb",
   "metadata": {},
   "outputs": [
    {
     "name": "stdout",
     "output_type": "stream",
     "text": [
      "    Name    Age  RollNo  Martial Status\n",
      "0  False  False   False            True\n",
      "1  False  False   False            True\n",
      "2  False  False   False            True\n",
      "3  False  False   False            True\n"
     ]
    }
   ],
   "source": [
    "print(frame3.isnull())"
   ]
  },
  {
   "cell_type": "code",
   "execution_count": 29,
   "id": "32ff2f4e-de9c-4467-9059-84195888ebe6",
   "metadata": {},
   "outputs": [
    {
     "name": "stdout",
     "output_type": "stream",
     "text": [
      "Name              0\n",
      "Age               0\n",
      "RollNo            0\n",
      "Martial Status    4\n",
      "dtype: int64\n"
     ]
    }
   ],
   "source": [
    "print(frame3.isnull().sum())"
   ]
  },
  {
   "cell_type": "code",
   "execution_count": 36,
   "id": "d2d4073c-6f11-42e6-a6cb-33341d2647d8",
   "metadata": {},
   "outputs": [
    {
     "name": "stdout",
     "output_type": "stream",
     "text": [
      "       Name  Age  RollNo  Martial Status\n",
      "0   Nithesh   20      33             NaN\n",
      "1     Pawan   17      34             NaN\n",
      "2    Ronith   20       1             NaN\n",
      "3  Preetham   18      40             NaN\n"
     ]
    }
   ],
   "source": [
    "print(frame3)"
   ]
  },
  {
   "cell_type": "code",
   "execution_count": 37,
   "id": "e4545eb2-8a92-4616-a573-8d25f1bce609",
   "metadata": {},
   "outputs": [
    {
     "name": "stdout",
     "output_type": "stream",
     "text": [
      "Empty DataFrame\n",
      "Columns: [Name, Age, RollNo, Martial Status]\n",
      "Index: []\n"
     ]
    }
   ],
   "source": [
    "c1 = frame3.dropna() #row\n",
    "print(c1)"
   ]
  },
  {
   "cell_type": "code",
   "execution_count": 39,
   "id": "e9af40e6-6332-4616-b26e-6dd8820180d0",
   "metadata": {},
   "outputs": [
    {
     "name": "stdout",
     "output_type": "stream",
     "text": [
      "       Name  Age  RollNo\n",
      "0   Nithesh   20      33\n",
      "1     Pawan   17      34\n",
      "2    Ronith   20       1\n",
      "3  Preetham   18      40\n"
     ]
    }
   ],
   "source": [
    "c2 = frame3.dropna(axis = 1) #column\n",
    "print(c2)"
   ]
  },
  {
   "cell_type": "code",
   "execution_count": 40,
   "id": "49342b04-0ccb-4aa2-8f50-6872d0e05f9f",
   "metadata": {},
   "outputs": [
    {
     "name": "stdout",
     "output_type": "stream",
     "text": [
      "       year state  pop\n",
      "one    2000   Ker  1.5\n",
      "two    2001   Ker  1.7\n",
      "three  2002   Ker  3.6\n",
      "four   2001   Kar  2.4\n",
      "five   2002   Kar  2.9\n"
     ]
    }
   ],
   "source": [
    "d1 = frame2.dropna(axis = 1)\n",
    "print(d1)"
   ]
  },
  {
   "cell_type": "code",
   "execution_count": 41,
   "id": "c3d806fc-e0b9-4008-a2e4-cd8d08104a93",
   "metadata": {},
   "outputs": [
    {
     "name": "stdout",
     "output_type": "stream",
     "text": [
      "       year state  pop\n",
      "one    2000   Ker  1.5\n",
      "two    2001   Ker  1.7\n",
      "three  2002   Ker  3.6\n",
      "four   2001   Kar  2.4\n",
      "five   2002   Kar  2.9\n"
     ]
    }
   ],
   "source": [
    "d2 = frame2.dropna(axis = 1, how = 'all')\n",
    "print(d2)"
   ]
  },
  {
   "cell_type": "code",
   "execution_count": 44,
   "id": "4b5ed2e7-de00-4650-9843-27cfd13456c4",
   "metadata": {},
   "outputs": [
    {
     "name": "stdout",
     "output_type": "stream",
     "text": [
      "  state  year  pop\n",
      "0   Ker  2000  1.5\n",
      "1   Ker  2001  1.7\n",
      "2   Ker  2002  3.6\n",
      "3   Kar  2001  2.4\n",
      "4   Kar  2002  2.9\n"
     ]
    }
   ],
   "source": [
    "#Filling missing data\n",
    "print(frame)"
   ]
  },
  {
   "cell_type": "code",
   "execution_count": 47,
   "id": "d53632a1-efee-4901-b44e-9c829f904316",
   "metadata": {},
   "outputs": [
    {
     "name": "stdout",
     "output_type": "stream",
     "text": [
      "  state  year  pop\n",
      "0   Ker  2000  1.5\n",
      "1   Ker  2001  1.7\n",
      "2   Ker  2002  3.6\n",
      "3   Kar  2001  2.4\n",
      "4   Kar  2002  2.9\n"
     ]
    }
   ],
   "source": [
    "e1 = frame.fillna(0)\n",
    "print(e1)"
   ]
  },
  {
   "cell_type": "code",
   "execution_count": 48,
   "id": "2caade7d-5964-4035-a0d7-ddbd48b8774d",
   "metadata": {},
   "outputs": [
    {
     "name": "stdout",
     "output_type": "stream",
     "text": [
      "  state  year  pop\n",
      "0   Ker  2000  1.5\n",
      "1   Ker  2001  1.7\n",
      "2   Ker  2002  3.6\n",
      "3   Kar  2001  2.4\n",
      "4   Kar  2002  2.9\n"
     ]
    }
   ],
   "source": [
    "print(frame)"
   ]
  },
  {
   "cell_type": "code",
   "execution_count": 49,
   "id": "c1cdc92d-2998-4ac8-a0b6-3d83f0757502",
   "metadata": {},
   "outputs": [
    {
     "name": "stdout",
     "output_type": "stream",
     "text": [
      "  state  year  pop\n",
      "0   Ker  2000  1.5\n",
      "1   Ker  2001  1.7\n",
      "2   Ker  2002  3.6\n",
      "3   Kar  2001  2.4\n",
      "4   Kar  2002  2.9\n"
     ]
    }
   ],
   "source": [
    "#Calling fillna with a dict you can use a different fill value for each column:\n",
    "print(frame)"
   ]
  },
  {
   "cell_type": "code",
   "execution_count": 51,
   "id": "136cc786-7a6d-469b-bc8c-464ce68c6c7f",
   "metadata": {},
   "outputs": [
    {
     "name": "stdout",
     "output_type": "stream",
     "text": [
      "  state  year  pop\n",
      "0   Ker  2000  1.5\n",
      "1   Ker  2001  1.7\n",
      "2   Ker  2002  3.6\n",
      "3   Kar  2001  2.4\n",
      "4   Kar  2002  2.9\n",
      "{'state': ['Ker', 'Ker', 'Ker', 'Kar', 'Kar'], 'year': [2000, 2001, 2002, 2001, 2002], 'pop': [1.5, 1.7, 3.6, 2.4, 2.9]}\n"
     ]
    }
   ],
   "source": [
    "e2 = frame.fillna({1: 0.5,2: -1})\n",
    "print(e2)\n",
    "print(data)"
   ]
  },
  {
   "cell_type": "code",
   "execution_count": null,
   "id": "41ec0170-88f2-45d7-925e-0a19189242d4",
   "metadata": {},
   "outputs": [],
   "source": []
  }
 ],
 "metadata": {
  "kernelspec": {
   "display_name": "Python 3 (ipykernel)",
   "language": "python",
   "name": "python3"
  },
  "language_info": {
   "codemirror_mode": {
    "name": "ipython",
    "version": 3
   },
   "file_extension": ".py",
   "mimetype": "text/x-python",
   "name": "python",
   "nbconvert_exporter": "python",
   "pygments_lexer": "ipython3",
   "version": "3.11.1"
  }
 },
 "nbformat": 4,
 "nbformat_minor": 5
}
